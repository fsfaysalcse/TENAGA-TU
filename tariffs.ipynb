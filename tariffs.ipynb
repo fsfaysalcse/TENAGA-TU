{
 "cells": [
  {
   "attachments": {},
   "cell_type": "markdown",
   "metadata": {},
   "source": [
    "# This code for RESIDENTIAL TARIFFS"
   ]
  },
  {
   "cell_type": "code",
   "execution_count": 1,
   "metadata": {},
   "outputs": [
    {
     "name": "stdout",
     "output_type": "stream",
     "text": [
      "Your monthly bill is RM 51.62\n"
     ]
    }
   ],
   "source": [
    "# Define tariff rates and minimum monthly charge in a dictionary\n",
    "tariff = {\n",
    "    \"t1_rate\": 21.8,   # sen/kWh for first 200 kWh\n",
    "    \"t2_rate\": 33.4,   # sen/kWh for next 100 kWh\n",
    "    \"t3_rate\": 51.6,   # sen/kWh for next 300 kWh\n",
    "    \"t4_rate\": 54.6,   # sen/kWh for next 300 kWh\n",
    "    \"t5_rate\": 57.1,   # sen/kWh for remaining kWh\n",
    "    \"min_charge\": 3.0  # RM minimum monthly charge\n",
    "}\n",
    "\n",
    "# Get usage in kWh from user input\n",
    "usage = int(input(\"Enter usage in kWh: \"))\n",
    "\n",
    "# Calculate electricity bill\n",
    "if usage <= 200:\n",
    "    bill = usage * tariff[\"t1_rate\"]\n",
    "elif usage <= 300:\n",
    "    bill = 200 * tariff[\"t1_rate\"] + (usage - 200) * tariff[\"t2_rate\"]\n",
    "elif usage <= 600:\n",
    "    bill = 200 * tariff[\"t1_rate\"] + 100 * tariff[\"t2_rate\"] + (usage - 300) * tariff[\"t3_rate\"]\n",
    "elif usage <= 900:\n",
    "    bill = 200 * tariff[\"t1_rate\"] + 100 * tariff[\"t2_rate\"] + 300 * tariff[\"t3_rate\"] + (usage - 600) * tariff[\"t4_rate\"]\n",
    "else:\n",
    "    bill = 200 * tariff[\"t1_rate\"] + 100 * tariff[\"t2_rate\"] + 300 * tariff[\"t3_rate\"] + 300 * tariff[\"t4_rate\"] + (usage - 900) * tariff[\"t5_rate\"]\n",
    "\n",
    "# Add minimum monthly charge\n",
    "bill = max(bill, tariff[\"min_charge\"] * 100) / 100.0  # convert to RM with 2 decimal places\n",
    "\n",
    "# Print the bill amount\n",
    "print(\"Electricity bill: RM\", bill)\n"
   ]
  },
  {
   "attachments": {},
   "cell_type": "markdown",
   "metadata": {},
   "source": [
    "# This code for  COMMERCIAL TARIFFS\n"
   ]
  },
  {
   "cell_type": "code",
   "execution_count": null,
   "metadata": {},
   "outputs": [],
   "source": [
    "def tariff_b(low_voltage_usage):\n",
    "    if low_voltage_usage <= 200:\n",
    "        return round(low_voltage_usage * 0.435 + 7.20, 2)\n",
    "    else:\n",
    "        return round(200 * 0.435 + (low_voltage_usage - 200) * 0.509 + 7.20, 2)\n",
    "\n",
    "\n",
    "def tariff_c1(max_demand, medium_voltage_usage):\n",
    "    return max(600.00, round(max_demand * 30.3 + medium_voltage_usage * 0.365, 2))\n",
    "\n",
    "\n",
    "def tariff_c2(max_demand_peak, medium_voltage_peak_usage, medium_voltage_offpeak_usage):\n",
    "    return max(600.00, round(max_demand_peak * 45.1 + medium_voltage_peak_usage * 0.365 + medium_voltage_offpeak_usage * 0.224, 2))\n",
    "\n",
    "\n",
    "# Examples of usage\n",
    "# Tariff B example\n",
    "low_voltage_usage = 400\n",
    "tariff_b_cost = tariff_b(low_voltage_usage)\n",
    "print(f\"Tariff B cost for {low_voltage_usage} kWh usage: RM{tariff_b_cost}\")\n",
    "\n",
    "# Tariff C1 example\n",
    "max_demand = 100\n",
    "medium_voltage_usage = 400\n",
    "tariff_c1_cost = tariff_c1(max_demand, medium_voltage_usage)\n",
    "print(f\"Tariff C1 cost for {medium_voltage_usage} kWh usage and {max_demand} kW max demand: RM{tariff_c1_cost}\")\n",
    "\n",
    "# Tariff C2 example\n",
    "max_demand_peak = 100\n",
    "medium_voltage_peak_usage = 500\n",
    "medium_voltage_offpeak_usage = 500\n",
    "tariff_c2_cost = tariff_c2(max_demand_peak, medium_voltage_peak_usage, medium_voltage_offpeak_usage)\n",
    "print(f\"Tariff C2 cost for {medium_voltage_peak_usage} kWh peak usage, {medium_voltage_offpeak_usage} kWh off-peak usage, and {max_demand_peak} kW max demand during peak: RM{tariff_c2_cost}\")\n"
   ]
  },
  {
   "attachments": {},
   "cell_type": "markdown",
   "metadata": {},
   "source": [
    "# for INDUSTRIAL TARIFFS"
   ]
  },
  {
   "cell_type": "code",
   "execution_count": null,
   "metadata": {},
   "outputs": [],
   "source": [
    "tariff_category = input(\"Enter the tariff category (D, E1, E2, or E3): \")\n",
    "\n",
    "if tariff_category == \"D\":\n",
    "    usage_kwh = float(input(\"Enter the monthly electricity usage in kWh: \"))\n",
    "    if usage_kwh <= 200:\n",
    "        bill = max(7.20, usage_kwh * 0.38)\n",
    "    else:\n",
    "        bill = 7.20 + ((usage_kwh - 200) * 0.441)\n",
    "\n",
    "elif tariff_category == \"E1\":\n",
    "    usage_kwh = float(input(\"Enter the monthly electricity usage in kWh: \"))\n",
    "    demand_kw = float(input(\"Enter the maximum demand in kW: \"))\n",
    "    bill = max(600.00, (demand_kw * 29.60) + (usage_kwh * 0.337))\n",
    "\n",
    "elif tariff_category == \"E2\":\n",
    "    peak_demand_kw = float(input(\"Enter the maximum demand in kW during peak period: \"))\n",
    "    peak_usage_kwh = float(input(\"Enter the electricity usage in kWh during peak period: \"))\n",
    "    off_peak_usage_kwh = float(input(\"Enter the electricity usage in kWh during off-peak period: \"))\n",
    "    bill = max(600.00, (peak_demand_kw * 37.00) + (peak_usage_kwh * 0.355) + (off_peak_usage_kwh * 0.219))\n",
    "\n",
    "elif tariff_category == \"E3\":\n",
    "    peak_demand_kw = float(input(\"Enter the maximum demand in kW during peak period: \"))\n",
    "    peak_usage_kwh = float(input(\"Enter the electricity usage in kWh during peak period: \"))\n",
    "    off_peak_usage_kwh = float(input(\"Enter the electricity usage in kWh during off-peak period: \"))\n",
    "    bill = max(600.00, (peak_demand_kw * 35.50) + (peak_usage_kwh * 0.337) + (off_peak_usage_kwh * 0.202))\n",
    "\n",
    "else:\n",
    "    print(\"Invalid tariff category\")\n",
    "\n",
    "print(f\"The estimated bill for tariff category {tariff_category} is RM {bill:.2f}\")\n"
   ]
  }
 ],
 "metadata": {
  "kernelspec": {
   "display_name": "venv",
   "language": "python",
   "name": "python3"
  },
  "language_info": {
   "codemirror_mode": {
    "name": "ipython",
    "version": 3
   },
   "file_extension": ".py",
   "mimetype": "text/x-python",
   "name": "python",
   "nbconvert_exporter": "python",
   "pygments_lexer": "ipython3",
   "version": "3.10.10"
  },
  "orig_nbformat": 4
 },
 "nbformat": 4,
 "nbformat_minor": 2
}
